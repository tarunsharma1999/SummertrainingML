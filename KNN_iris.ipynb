{
  "nbformat": 4,
  "nbformat_minor": 0,
  "metadata": {
    "colab": {
      "name": "KNN_iris.ipynb",
      "version": "0.3.2",
      "provenance": [],
      "include_colab_link": true
    },
    "kernelspec": {
      "name": "python3",
      "display_name": "Python 3"
    }
  },
  "cells": [
    {
      "cell_type": "markdown",
      "metadata": {
        "id": "view-in-github",
        "colab_type": "text"
      },
      "source": [
        "<a href=\"https://colab.research.google.com/github/tarunsharma1999/SummertrainingML/blob/supervisied_learning/KNN_iris.ipynb\" target=\"_parent\"><img src=\"https://colab.research.google.com/assets/colab-badge.svg\" alt=\"Open In Colab\"/></a>"
      ]
    },
    {
      "cell_type": "markdown",
      "metadata": {
        "id": "gGkotIvYf_RK",
        "colab_type": "text"
      },
      "source": [
        "#KNN\n"
      ]
    },
    {
      "cell_type": "code",
      "metadata": {
        "id": "sRX2kDoVWvjl",
        "colab_type": "code",
        "colab": {}
      },
      "source": [
        "#loading iris datasets\n",
        "from  sklearn.datasets import load_iris\n",
        "#for testing and training\n",
        "from sklearn.model_selection import train_test_split\n",
        "#for KNN classifier\n",
        "from sklearn.neighbors import KNeighborsClassifier\n",
        "#for checking accuracy\n",
        "from sklearn.metrics import accuracy_score\n",
        "#for decisiontreeclassifieer\n",
        "from sklearn.tree import DecisionTreeClassifier"
      ],
      "execution_count": 0,
      "outputs": []
    },
    {
      "cell_type": "code",
      "metadata": {
        "id": "b7wphuCkgQkp",
        "colab_type": "code",
        "colab": {}
      },
      "source": [
        "#storing into  a variable\n",
        "iris=load_iris()"
      ],
      "execution_count": 0,
      "outputs": []
    },
    {
      "cell_type": "code",
      "metadata": {
        "id": "nBEOZVGtgU8k",
        "colab_type": "code",
        "colab": {}
      },
      "source": [
        "iris_features=iris.data\n",
        "iris_label=iris.target"
      ],
      "execution_count": 0,
      "outputs": []
    },
    {
      "cell_type": "code",
      "metadata": {
        "id": "CLA2NxXEiKNM",
        "colab_type": "code",
        "colab": {}
      },
      "source": [
        "train_data,test_data,train_label,test_label=train_test_split(iris_features,iris_label,test_size=0.1)"
      ],
      "execution_count": 0,
      "outputs": []
    },
    {
      "cell_type": "code",
      "metadata": {
        "id": "YUXmcOG_ioSm",
        "colab_type": "code",
        "colab": {}
      },
      "source": [
        "#Calling Knn with default value 5\n",
        "knn=KNeighborsClassifier(n_neighbors=5)"
      ],
      "execution_count": 0,
      "outputs": []
    },
    {
      "cell_type": "code",
      "metadata": {
        "id": "lmDxL37Yk7_L",
        "colab_type": "code",
        "colab": {}
      },
      "source": [
        "train=knn.fit(train_data,train_label)"
      ],
      "execution_count": 0,
      "outputs": []
    },
    {
      "cell_type": "code",
      "metadata": {
        "id": "Nf0ILsp7lDbz",
        "colab_type": "code",
        "colab": {}
      },
      "source": [
        "tested=knn.predict(test_data)"
      ],
      "execution_count": 0,
      "outputs": []
    },
    {
      "cell_type": "code",
      "metadata": {
        "id": "yYmoh32VlOID",
        "colab_type": "code",
        "colab": {
          "base_uri": "https://localhost:8080/",
          "height": 34
        },
        "outputId": "8db0ddf3-a77e-4d9a-ead0-e62b79fe403e"
      },
      "source": [
        "print(tested)"
      ],
      "execution_count": 51,
      "outputs": [
        {
          "output_type": "stream",
          "text": [
            "[2 1 0 2 1 2 2 0 2 0 0 2 1 0 2]\n"
          ],
          "name": "stdout"
        }
      ]
    },
    {
      "cell_type": "code",
      "metadata": {
        "id": "u6TgDszylRnQ",
        "colab_type": "code",
        "colab": {
          "base_uri": "https://localhost:8080/",
          "height": 34
        },
        "outputId": "9eeef113-67ca-4f8b-c947-4e703bdc92ea"
      },
      "source": [
        "test_label"
      ],
      "execution_count": 52,
      "outputs": [
        {
          "output_type": "execute_result",
          "data": {
            "text/plain": [
              "array([2, 1, 0, 2, 1, 2, 1, 0, 2, 0, 0, 2, 1, 0, 2])"
            ]
          },
          "metadata": {
            "tags": []
          },
          "execution_count": 52
        }
      ]
    },
    {
      "cell_type": "code",
      "metadata": {
        "id": "8CFJAsA0lTp3",
        "colab_type": "code",
        "colab": {
          "base_uri": "https://localhost:8080/",
          "height": 34
        },
        "outputId": "d0fbe4de-e2ad-4bcc-ee81-85ddbd93b2d4"
      },
      "source": [
        "accuracy_score(tested,test_label)"
      ],
      "execution_count": 53,
      "outputs": [
        {
          "output_type": "execute_result",
          "data": {
            "text/plain": [
              "0.9333333333333333"
            ]
          },
          "metadata": {
            "tags": []
          },
          "execution_count": 53
        }
      ]
    },
    {
      "cell_type": "code",
      "metadata": {
        "id": "E20CZf5qloRY",
        "colab_type": "code",
        "colab": {}
      },
      "source": [
        "DT=DecisionTreeClassifier()"
      ],
      "execution_count": 0,
      "outputs": []
    },
    {
      "cell_type": "code",
      "metadata": {
        "id": "Y5l5TrKpmR8d",
        "colab_type": "code",
        "colab": {}
      },
      "source": [
        "DTclf=DT.fit(train_data,train_label)"
      ],
      "execution_count": 0,
      "outputs": []
    },
    {
      "cell_type": "code",
      "metadata": {
        "id": "UGwUtAEymZKk",
        "colab_type": "code",
        "colab": {}
      },
      "source": [
        "test=DTclf.predict(test_data)"
      ],
      "execution_count": 0,
      "outputs": []
    },
    {
      "cell_type": "code",
      "metadata": {
        "id": "jXAr-ih1mehX",
        "colab_type": "code",
        "colab": {
          "base_uri": "https://localhost:8080/",
          "height": 34
        },
        "outputId": "de80760e-ab0f-4b7f-ce45-fb23f52fb0b8"
      },
      "source": [
        "accuracy_score(test,test_label)"
      ],
      "execution_count": 81,
      "outputs": [
        {
          "output_type": "execute_result",
          "data": {
            "text/plain": [
              "0.8666666666666667"
            ]
          },
          "metadata": {
            "tags": []
          },
          "execution_count": 81
        }
      ]
    }
  ]
}