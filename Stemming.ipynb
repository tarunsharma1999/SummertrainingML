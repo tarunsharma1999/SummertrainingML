{
  "nbformat": 4,
  "nbformat_minor": 0,
  "metadata": {
    "colab": {
      "name": "Stemming.ipynb",
      "version": "0.3.2",
      "provenance": [],
      "collapsed_sections": [],
      "include_colab_link": true
    },
    "kernelspec": {
      "name": "python3",
      "display_name": "Python 3"
    }
  },
  "cells": [
    {
      "cell_type": "markdown",
      "metadata": {
        "id": "view-in-github",
        "colab_type": "text"
      },
      "source": [
        "<a href=\"https://colab.research.google.com/github/tarunsharma1999/SummertrainingML/blob/master/Stemming.ipynb\" target=\"_parent\"><img src=\"https://colab.research.google.com/assets/colab-badge.svg\" alt=\"Open In Colab\"/></a>"
      ]
    },
    {
      "cell_type": "code",
      "metadata": {
        "id": "zYqAD9CedneV",
        "colab_type": "code",
        "colab": {}
      },
      "source": [
        "from nltk.stem import PorterStemmer\n",
        "from nltk.stem import WordNetLemmatizer"
      ],
      "execution_count": 0,
      "outputs": []
    },
    {
      "cell_type": "code",
      "metadata": {
        "id": "aGeGtCjCeBl7",
        "colab_type": "code",
        "colab": {}
      },
      "source": [
        "# Stemming \n",
        "port=PorterStemmer()\n",
        "word=WordNetLemmatizer()"
      ],
      "execution_count": 0,
      "outputs": []
    },
    {
      "cell_type": "code",
      "metadata": {
        "id": "DDYhbDzZeOQn",
        "colab_type": "code",
        "outputId": "16df0107-e38f-47fa-ed1e-6a9ef7acbf38",
        "colab": {
          "base_uri": "https://localhost:8080/",
          "height": 183
        }
      },
      "source": [
        "# word supply \n",
        "for i in ['consult','consulting','consltant','consultantive','consultants','intelligently',\n",
        "          'feet','foot','feot']:\n",
        "  print(i,'\\t',port.stem(i),'\\t',word.lemmatize(i))\n",
        "  \n",
        "  "
      ],
      "execution_count": 18,
      "outputs": [
        {
          "output_type": "stream",
          "text": [
            "consult \t consult \t consult\n",
            "consulting \t consult \t consulting\n",
            "consltant \t consltant \t consltant\n",
            "consultantive \t consultant \t consultantive\n",
            "consultants \t consult \t consultant\n",
            "intelligently \t intellig \t intelligently\n",
            "feet \t feet \t foot\n",
            "foot \t foot \t foot\n",
            "feot \t feot \t feot\n"
          ],
          "name": "stdout"
        }
      ]
    }
  ]
}