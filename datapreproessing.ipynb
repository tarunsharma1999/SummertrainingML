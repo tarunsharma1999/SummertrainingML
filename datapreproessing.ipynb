{
  "nbformat": 4,
  "nbformat_minor": 0,
  "metadata": {
    "colab": {
      "name": "datapreproessing.ipynb",
      "version": "0.3.2",
      "provenance": [],
      "include_colab_link": true
    },
    "kernelspec": {
      "name": "python3",
      "display_name": "Python 3"
    }
  },
  "cells": [
    {
      "cell_type": "markdown",
      "metadata": {
        "id": "view-in-github",
        "colab_type": "text"
      },
      "source": [
        "<a href=\"https://colab.research.google.com/github/tarunsharma1999/SummertrainingML/blob/master/datapreproessing.ipynb\" target=\"_parent\"><img src=\"https://colab.research.google.com/assets/colab-badge.svg\" alt=\"Open In Colab\"/></a>"
      ]
    },
    {
      "cell_type": "code",
      "metadata": {
        "id": "GR0-m-FuzxUe",
        "colab_type": "code",
        "colab": {
          "base_uri": "https://localhost:8080/",
          "height": 212
        },
        "outputId": "ea32ee32-de96-4854-d7b4-55f434ba4cf6"
      },
      "source": [
        "import pandas as pd\n",
        "dataframe=pd.read_csv('http://13.234.66.67/summer19/datasets/info.csv')\n",
        "\n",
        "print(dataframe)"
      ],
      "execution_count": 2,
      "outputs": [
        {
          "output_type": "stream",
          "text": [
            "   Country   Age   Salary Purchased\n",
            "0   France  44.0  72000.0        No\n",
            "1    Spain  27.0  48000.0       Yes\n",
            "2  Germany  30.0  54000.0        No\n",
            "3    Spain  38.0  61000.0        No\n",
            "4  Germany  40.0      NaN       Yes\n",
            "5   France  35.0  58000.0       Yes\n",
            "6    Spain   NaN  52000.0        No\n",
            "7   France  48.0  79000.0       Yes\n",
            "8  Germany  50.0  83000.0        No\n",
            "9   France  37.0  67000.0       Yes\n"
          ],
          "name": "stdout"
        }
      ]
    },
    {
      "cell_type": "code",
      "metadata": {
        "id": "rix2A9in0FHk",
        "colab_type": "code",
        "colab": {
          "base_uri": "https://localhost:8080/",
          "height": 267
        },
        "outputId": "77a30b9f-a1ce-4c78-c0be-a63594034480"
      },
      "source": [
        "# Eliminating Null Values \n",
        "from sklearn.preprocessing import Imputer\n",
        "imp=Imputer(missing_values='NaN',axis=0,strategy='mean')\n",
        "\n",
        "x=dataframe.iloc[:,0:].values\n",
        "print(x)\n",
        "\n",
        "impute=imp.fit(x[:,1:3])\n",
        "print(impute)"
      ],
      "execution_count": 30,
      "outputs": [
        {
          "output_type": "stream",
          "text": [
            "[['France' 44.0 72000.0 'No']\n",
            " ['Spain' 27.0 48000.0 'Yes']\n",
            " ['Germany' 30.0 54000.0 'No']\n",
            " ['Spain' 38.0 61000.0 'No']\n",
            " ['Germany' 40.0 nan 'Yes']\n",
            " ['France' 35.0 58000.0 'Yes']\n",
            " ['Spain' nan 52000.0 'No']\n",
            " ['France' 48.0 79000.0 'Yes']\n",
            " ['Germany' 50.0 83000.0 'No']\n",
            " ['France' 37.0 67000.0 'Yes']]\n",
            "Imputer(axis=0, copy=True, missing_values='NaN', strategy='mean', verbose=0)\n"
          ],
          "name": "stdout"
        },
        {
          "output_type": "stream",
          "text": [
            "/usr/local/lib/python3.6/dist-packages/sklearn/utils/deprecation.py:66: DeprecationWarning: Class Imputer is deprecated; Imputer was deprecated in version 0.20 and will be removed in 0.22. Import impute.SimpleImputer from sklearn instead.\n",
            "  warnings.warn(msg, category=DeprecationWarning)\n"
          ],
          "name": "stderr"
        }
      ]
    },
    {
      "cell_type": "code",
      "metadata": {
        "id": "_rBGKHPF4Obm",
        "colab_type": "code",
        "colab": {}
      },
      "source": [
        "x[:,1:3]=impute.transform(x[:,1:3])"
      ],
      "execution_count": 0,
      "outputs": []
    },
    {
      "cell_type": "code",
      "metadata": {
        "id": "-Z20Qfok4WFs",
        "colab_type": "code",
        "colab": {
          "base_uri": "https://localhost:8080/",
          "height": 194
        },
        "outputId": "f5781253-01ee-4fcb-b97d-c5eb1a3738f3"
      },
      "source": [
        "print(x)"
      ],
      "execution_count": 32,
      "outputs": [
        {
          "output_type": "stream",
          "text": [
            "[['France' 44.0 72000.0 'No']\n",
            " ['Spain' 27.0 48000.0 'Yes']\n",
            " ['Germany' 30.0 54000.0 'No']\n",
            " ['Spain' 38.0 61000.0 'No']\n",
            " ['Germany' 40.0 63777.77777777778 'Yes']\n",
            " ['France' 35.0 58000.0 'Yes']\n",
            " ['Spain' 38.77777777777778 52000.0 'No']\n",
            " ['France' 48.0 79000.0 'Yes']\n",
            " ['Germany' 50.0 83000.0 'No']\n",
            " ['France' 37.0 67000.0 'Yes']]\n"
          ],
          "name": "stdout"
        }
      ]
    },
    {
      "cell_type": "code",
      "metadata": {
        "id": "euy85aoR6oxp",
        "colab_type": "code",
        "colab": {}
      },
      "source": [
        "#To change string labels for int/float\n",
        "\n",
        "from sklearn.preprocessing import LabelEncoder\n",
        "\n",
        "cont=LabelEncoder()"
      ],
      "execution_count": 0,
      "outputs": []
    },
    {
      "cell_type": "code",
      "metadata": {
        "id": "JWep1a9g60BV",
        "colab_type": "code",
        "colab": {
          "base_uri": "https://localhost:8080/",
          "height": 194
        },
        "outputId": "f179b237-1de8-45d0-a325-4f67c2fe5690"
      },
      "source": [
        "# Changing values of col1 to numeric values\n",
        "\n",
        "x[:,0]=cont.fit_transform(x[:,0])\n",
        "print(x)"
      ],
      "execution_count": 33,
      "outputs": [
        {
          "output_type": "stream",
          "text": [
            "[[0 44.0 72000.0 'No']\n",
            " [2 27.0 48000.0 'Yes']\n",
            " [1 30.0 54000.0 'No']\n",
            " [2 38.0 61000.0 'No']\n",
            " [1 40.0 63777.77777777778 'Yes']\n",
            " [0 35.0 58000.0 'Yes']\n",
            " [2 38.77777777777778 52000.0 'No']\n",
            " [0 48.0 79000.0 'Yes']\n",
            " [1 50.0 83000.0 'No']\n",
            " [0 37.0 67000.0 'Yes']]\n"
          ],
          "name": "stdout"
        }
      ]
    },
    {
      "cell_type": "code",
      "metadata": {
        "id": "eJpuTLgU7Dqg",
        "colab_type": "code",
        "colab": {}
      },
      "source": [
        "#labelling last column yes,no\n",
        "p=LabelEncoder()\n",
        "x[:,3]=p.fit_transform(x[:,3])"
      ],
      "execution_count": 0,
      "outputs": []
    },
    {
      "cell_type": "code",
      "metadata": {
        "id": "VGufOmcj75n7",
        "colab_type": "code",
        "colab": {
          "base_uri": "https://localhost:8080/",
          "height": 194
        },
        "outputId": "f96e6fe6-e061-4274-b362-bbad7eb706bd"
      },
      "source": [
        "x"
      ],
      "execution_count": 35,
      "outputs": [
        {
          "output_type": "execute_result",
          "data": {
            "text/plain": [
              "array([[0, 44.0, 72000.0, 0],\n",
              "       [2, 27.0, 48000.0, 1],\n",
              "       [1, 30.0, 54000.0, 0],\n",
              "       [2, 38.0, 61000.0, 0],\n",
              "       [1, 40.0, 63777.77777777778, 1],\n",
              "       [0, 35.0, 58000.0, 1],\n",
              "       [2, 38.77777777777778, 52000.0, 0],\n",
              "       [0, 48.0, 79000.0, 1],\n",
              "       [1, 50.0, 83000.0, 0],\n",
              "       [0, 37.0, 67000.0, 1]], dtype=object)"
            ]
          },
          "metadata": {
            "tags": []
          },
          "execution_count": 35
        }
      ]
    }
  ]
}