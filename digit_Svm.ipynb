{
  "nbformat": 4,
  "nbformat_minor": 0,
  "metadata": {
    "colab": {
      "name": "digit_Svm.ipynb",
      "version": "0.3.2",
      "provenance": [],
      "include_colab_link": true
    },
    "kernelspec": {
      "name": "python3",
      "display_name": "Python 3"
    }
  },
  "cells": [
    {
      "cell_type": "markdown",
      "metadata": {
        "id": "view-in-github",
        "colab_type": "text"
      },
      "source": [
        "<a href=\"https://colab.research.google.com/github/tarunsharma1999/SummertrainingML/blob/supervisied_learning/digit_Svm.ipynb\" target=\"_parent\"><img src=\"https://colab.research.google.com/assets/colab-badge.svg\" alt=\"Open In Colab\"/></a>"
      ]
    },
    {
      "cell_type": "code",
      "metadata": {
        "id": "huaIUd4kMCt5",
        "colab_type": "code",
        "colab": {}
      },
      "source": [
        "from sklearn.datasets import load_digits\n",
        "from sklearn.model_selection import train_test_split\n",
        "import matplotlib.pyplot as plt\n",
        "from sklearn.svm import SVC\n",
        "digit=load_digits()\n",
        "\n"
      ],
      "execution_count": 0,
      "outputs": []
    },
    {
      "cell_type": "code",
      "metadata": {
        "id": "mCgnvnNAMPRB",
        "colab_type": "code",
        "colab": {}
      },
      "source": [
        "features= digit.data\n",
        "labels=digit.target\n"
      ],
      "execution_count": 0,
      "outputs": []
    },
    {
      "cell_type": "code",
      "metadata": {
        "id": "vac2reFmMTaP",
        "colab_type": "code",
        "colab": {
          "base_uri": "https://localhost:8080/",
          "height": 286
        },
        "outputId": "e45a829a-465d-49fb-b223-f4a440342bd8"
      },
      "source": [
        "X_train,x_test,Y_label,y_label =train_test_split(features,labels,test_size=0.2)\n",
        "plt.imshow(digit.images[0])"
      ],
      "execution_count": 21,
      "outputs": [
        {
          "output_type": "execute_result",
          "data": {
            "text/plain": [
              "<matplotlib.image.AxesImage at 0x7fde0af720f0>"
            ]
          },
          "metadata": {
            "tags": []
          },
          "execution_count": 21
        },
        {
          "output_type": "display_data",
          "data": {
            "image/png": "[encoded data removed]",
            "text/plain": [
              "<Figure size 432x288 with 1 Axes>"
            ]
          },
          "metadata": {
            "tags": []
          }
        }
      ]
    },
    {
      "cell_type": "code",
      "metadata": {
        "id": "ofsuUUjKNSok",
        "colab_type": "code",
        "colab": {
          "base_uri": "https://localhost:8080/",
          "height": 143
        },
        "outputId": "a7750f68-1b6f-41f0-bb3d-e9aa33047132"
      },
      "source": [
        "clf=SVC()\n",
        "\n",
        "clf.fit(X_train,Y_label)"
      ],
      "execution_count": 22,
      "outputs": [
        {
          "output_type": "stream",
          "text": [
            "/usr/local/lib/python3.6/dist-packages/sklearn/svm/base.py:193: FutureWarning: The default value of gamma will change from 'auto' to 'scale' in version 0.22 to account better for unscaled features. Set gamma explicitly to 'auto' or 'scale' to avoid this warning.\n",
            "  \"avoid this warning.\", FutureWarning)\n"
          ],
          "name": "stderr"
        },
        {
          "output_type": "execute_result",
          "data": {
            "text/plain": [
              "SVC(C=1.0, cache_size=200, class_weight=None, coef0=0.0,\n",
              "    decision_function_shape='ovr', degree=3, gamma='auto_deprecated',\n",
              "    kernel='rbf', max_iter=-1, probability=False, random_state=None,\n",
              "    shrinking=True, tol=0.001, verbose=False)"
            ]
          },
          "metadata": {
            "tags": []
          },
          "execution_count": 22
        }
      ]
    },
    {
      "cell_type": "code",
      "metadata": {
        "id": "PGxpkBYnNWHB",
        "colab_type": "code",
        "colab": {
          "base_uri": "https://localhost:8080/",
          "height": 372
        },
        "outputId": "720cd316-8da7-4e92-8b0c-edfdeb0851aa"
      },
      "source": [
        "output=clf.predict(x_test)\n",
        "print(output)\n",
        "print(y_label)"
      ],
      "execution_count": 31,
      "outputs": [
        {
          "output_type": "stream",
          "text": [
            "[5 5 5 5 5 4 4 5 4 5 5 5 5 5 5 5 5 5 7 7 3 5 5 3 5 5 5 4 5 5 5 0 5 3 2 5 5\n",
            " 5 5 1 5 0 5 5 5 3 5 5 5 5 5 5 2 5 5 0 5 5 4 5 5 5 5 4 5 6 5 5 5 5 5 0 0 4\n",
            " 0 5 2 5 5 5 5 5 7 5 5 5 6 5 5 5 1 5 6 5 5 5 5 5 7 5 5 5 4 5 6 5 5 5 5 7 0\n",
            " 3 5 5 5 5 4 0 5 3 5 5 0 3 5 5 5 6 5 9 1 7 5 5 5 1 5 5 5 5 5 5 6 5 5 5 6 5\n",
            " 5 5 5 5 5 5 0 2 5 5 5 5 5 5 2 5 6 1 7 1 5 5 5 5 4 6 5 5 0 5 7 5 5 5 5 5 5\n",
            " 3 5 5 3 7 5 5 2 9 5 5 6 4 0 5 5 1 5 5 5 0 6 5 5 5 5 5 5 5 5 5 7 0 5 4 5 5\n",
            " 5 5 5 5 5 2 0 5 5 5 6 5 7 7 0 3 5 3 4 5 5 2 5 5 5 8 6 5 4 0 3 5 5 5 6 5 5\n",
            " 5 7 5 5 5 5 2 6 4 6 5 5 5 5 5 4 2 5 5 7 3 5 5 5 5 6 5 4 7 1 0 5 5 5 0 5 5\n",
            " 6 4 5 4 5 5 5 3 5 3 5 5 3 5 5 1 7 5 9 7 6 5 5 0 6 5 5 0 5 4 4 5 5 4 5 5 1\n",
            " 0 5 5 0 7 5 5 5 4 2 5 5 5 0 5 4 5 5 3 5 5 5 7 0 7 5 8]\n",
            "[1 5 8 8 1 4 4 2 4 9 6 3 9 3 6 6 6 8 7 7 3 5 8 3 0 5 0 4 8 5 5 0 9 3 2 2 1\n",
            " 3 1 1 8 0 6 3 3 3 9 1 8 1 0 9 2 1 3 0 2 9 4 2 1 1 3 4 1 6 7 8 6 5 2 0 0 4\n",
            " 0 6 2 5 9 9 9 5 7 8 7 3 6 0 3 9 1 1 6 2 0 9 9 9 7 5 0 3 4 3 6 9 1 9 4 7 0\n",
            " 3 6 3 9 2 4 0 3 3 1 2 0 3 9 3 9 6 7 9 1 7 3 4 9 1 1 3 9 1 1 1 6 0 5 2 6 8\n",
            " 4 1 9 8 9 8 0 2 5 1 0 1 9 2 2 8 6 1 7 1 2 0 2 8 4 6 5 8 0 5 7 9 0 5 9 4 6\n",
            " 3 2 2 3 7 5 0 2 9 5 8 6 4 0 6 3 1 6 5 1 0 6 1 3 5 9 5 8 9 1 2 7 0 9 4 8 5\n",
            " 2 7 8 5 9 2 0 1 9 1 6 1 7 7 0 3 5 3 4 2 1 2 3 2 8 8 6 1 4 0 3 8 9 8 6 2 5\n",
            " 2 7 6 5 8 5 2 6 4 6 5 8 1 5 9 4 2 8 1 7 3 5 2 5 0 6 8 4 7 1 0 2 7 5 0 0 3\n",
            " 6 4 6 4 2 8 8 3 3 3 6 9 3 7 8 1 7 1 9 7 6 8 5 0 6 8 1 0 3 4 4 1 6 4 4 9 1\n",
            " 0 9 8 0 7 6 6 6 4 2 8 6 5 0 9 4 2 9 3 2 5 0 7 0 7 8 8]\n"
          ],
          "name": "stdout"
        }
      ]
    },
    {
      "cell_type": "code",
      "metadata": {
        "id": "mDCJma09PfQ_",
        "colab_type": "code",
        "colab": {
          "base_uri": "https://localhost:8080/",
          "height": 34
        },
        "outputId": "04d73b7a-efc3-4deb-8f64-324b0fd64d91"
      },
      "source": [
        "from sklearn.metrics import accuracy_score\n",
        "\n",
        "accuracy_score(output,y_label)"
      ],
      "execution_count": 32,
      "outputs": [
        {
          "output_type": "execute_result",
          "data": {
            "text/plain": [
              "0.4583333333333333"
            ]
          },
          "metadata": {
            "tags": []
          },
          "execution_count": 32
        }
      ]
    }
  ]
}