{
  "nbformat": 4,
  "nbformat_minor": 0,
  "metadata": {
    "colab": {
      "name": "Titanic_DecisionTree_1.ipynb",
      "version": "0.3.2",
      "provenance": [],
      "include_colab_link": true
    },
    "kernelspec": {
      "name": "python3",
      "display_name": "Python 3"
    }
  },
  "cells": [
    {
      "cell_type": "markdown",
      "metadata": {
        "id": "view-in-github",
        "colab_type": "text"
      },
      "source": [
        "<a href=\"https://colab.research.google.com/github/tarunsharma1999/SummertrainingML/blob/master/task/Titanic_DecisionTree_1.ipynb\" target=\"_parent\"><img src=\"https://colab.research.google.com/assets/colab-badge.svg\" alt=\"Open In Colab\"/></a>"
      ]
    },
    {
      "cell_type": "code",
      "metadata": {
        "id": "_DXXxdfORQvm",
        "colab_type": "code",
        "colab": {}
      },
      "source": [
        "import numpy as np\n",
        "import pandas as pd\n",
        "from sklearn.preprocessing import Imputer\n",
        "from sklearn.preprocessing import LabelEncoder\n",
        "from sklearn.tree import DecisionTreeClassifier\n",
        "from sklearn.metrics import accuracy_score"
      ],
      "execution_count": 0,
      "outputs": []
    },
    {
      "cell_type": "code",
      "metadata": {
        "id": "tOhSlhNjRymO",
        "colab_type": "code",
        "colab": {}
      },
      "source": [
        "train_file=pd.read_csv('train.csv')\n",
        "test_file=pd.read_csv('test.csv')\n",
        "accuracy_check=pd.read_csv('gender_submission.csv')"
      ],
      "execution_count": 0,
      "outputs": []
    },
    {
      "cell_type": "markdown",
      "metadata": {
        "id": "Cg1Ude5rXaX_",
        "colab_type": "text"
      },
      "source": [
        "**Pre Processing With Train Data Set**"
      ]
    },
    {
      "cell_type": "code",
      "metadata": {
        "id": "VD_ebML0S_9Q",
        "colab_type": "code",
        "colab": {
          "base_uri": "https://localhost:8080/",
          "height": 70
        },
        "outputId": "5cadeace-fc2a-4265-bd50-3297a1f966e4"
      },
      "source": [
        "features=train_file.iloc[:,[2,4,5,6,7,9]].values\n",
        "\n",
        "#Labelling Sex Column in features\n",
        "count=LabelEncoder()\n",
        "features[:,1]=count.fit_transform(features[:,1])\n",
        "\n",
        "#Removing Null Values in Age\n",
        "imp=Imputer(missing_values='NaN',axis=0,strategy='mean')\n",
        "impute=imp.fit(features[:,[2]])\n",
        "features[:,[2]]=impute.transform(features[:,[2]])\n",
        "\n",
        "#Labels for training\n",
        "Labels=train_file.iloc[:,[1]]"
      ],
      "execution_count": 39,
      "outputs": [
        {
          "output_type": "stream",
          "text": [
            "/usr/local/lib/python3.6/dist-packages/sklearn/utils/deprecation.py:66: DeprecationWarning: Class Imputer is deprecated; Imputer was deprecated in version 0.20 and will be removed in 0.22. Import impute.SimpleImputer from sklearn instead.\n",
            "  warnings.warn(msg, category=DeprecationWarning)\n"
          ],
          "name": "stderr"
        }
      ]
    },
    {
      "cell_type": "markdown",
      "metadata": {
        "id": "aEdOZJIWYIIu",
        "colab_type": "text"
      },
      "source": [
        "**Trainig Model**"
      ]
    },
    {
      "cell_type": "code",
      "metadata": {
        "id": "22-0qEBuUI_A",
        "colab_type": "code",
        "colab": {}
      },
      "source": [
        "Clf=DecisionTreeClassifier()\n",
        "trained=Clf.fit(features,Labels)"
      ],
      "execution_count": 0,
      "outputs": []
    },
    {
      "cell_type": "markdown",
      "metadata": {
        "id": "fuMf1hDzX_d-",
        "colab_type": "text"
      },
      "source": [
        "**Pre Processing With Test Data Set**"
      ]
    },
    {
      "cell_type": "code",
      "metadata": {
        "id": "4dfBZljQXYq-",
        "colab_type": "code",
        "colab": {}
      },
      "source": [
        "Test=test_file.iloc[:,[1,3,4,5,6,8]].values\n",
        "\n",
        "#Labelling Sex Column in features\n",
        "Test[:,1]=count.fit_transform(Test[:,1])\n",
        "\n",
        "#Removing Null Values in Age\n",
        "impute=imp.fit(Test[:,[2]])\n",
        "Test[:,[2]]=impute.transform(Test[:,[2]])\n",
        "impute=imp.fit(Test[:,[5]])\n",
        "Test[:,[5]]=impute.transform(Test[:,[5]])"
      ],
      "execution_count": 0,
      "outputs": []
    },
    {
      "cell_type": "markdown",
      "metadata": {
        "id": "loNnsg6_a62U",
        "colab_type": "text"
      },
      "source": [
        "**Prediction And Accuracy Check**"
      ]
    },
    {
      "cell_type": "code",
      "metadata": {
        "id": "UiMfR-3FZjst",
        "colab_type": "code",
        "colab": {
          "base_uri": "https://localhost:8080/",
          "height": 34
        },
        "outputId": "706e3bf9-50f2-422d-880e-045321bd2dd6"
      },
      "source": [
        "prediction=trained.predict(Test)\n",
        "\n",
        "checker=accuracy_check.Survived\n",
        "accuracy_score(prediction,checker)"
      ],
      "execution_count": 50,
      "outputs": [
        {
          "output_type": "execute_result",
          "data": {
            "text/plain": [
              "0.8110047846889952"
            ]
          },
          "metadata": {
            "tags": []
          },
          "execution_count": 50
        }
      ]
    },
    {
      "cell_type": "code",
      "metadata": {
        "id": "wpjMxTk0eOlE",
        "colab_type": "code",
        "colab": {
          "base_uri": "https://localhost:8080/",
          "height": 34
        },
        "outputId": "0808e4a5-8dbf-409f-d25a-fa5d18fc92c7"
      },
      "source": [
        "mindeath=0\n",
        "for i in prediction:\n",
        "  if i ==1 :\n",
        "    mindeath+=1\n",
        "print(\"Minimum Death Predicted:\",mindeath)"
      ],
      "execution_count": 51,
      "outputs": [
        {
          "output_type": "stream",
          "text": [
            "Minimum Death Predicted: 149\n"
          ],
          "name": "stdout"
        }
      ]
    }
  ]
}