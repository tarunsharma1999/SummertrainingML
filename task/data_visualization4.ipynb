{
  "nbformat": 4,
  "nbformat_minor": 0,
  "metadata": {
    "colab": {
      "name": "Copy of Untitled8.ipynb",
      "version": "0.3.2",
      "provenance": [],
      "collapsed_sections": [],
      "include_colab_link": true
    },
    "kernelspec": {
      "name": "python3",
      "display_name": "Python 3"
    }
  },
  "cells": [
    {
      "cell_type": "markdown",
      "metadata": {
        "id": "view-in-github",
        "colab_type": "text"
      },
      "source": [
        "<a href=\"https://colab.research.google.com/github/tarunsharma1999/SummertrainingML/blob/master/task/data_visualization4.ipynb\" target=\"_parent\"><img src=\"https://colab.research.google.com/assets/colab-badge.svg\" alt=\"Open In Colab\"/></a>"
      ]
    },
    {
      "cell_type": "markdown",
      "metadata": {
        "id": "p7EplVLiN4Pf",
        "colab_type": "text"
      },
      "source": [
        "#data_visualization: 4 \n",
        "\n",
        "#write the code will follow conditions\n",
        "\n",
        "i)   scrape data of  the url  https://en.wikipedia.org/wiki/Machine_learning\n",
        "\n",
        "ii)  count  all the words after scraping\n",
        "\n",
        "iii) plot the pie and bar plot of top 20 repeated words\n",
        "\n",
        "iv)  plot scatter graph of  all the words having presence more 3 times  in scraped data\n",
        "\n",
        "v)   show stack plot of all the links that are present in above URL**"
      ]
    },
    {
      "cell_type": "code",
      "metadata": {
        "id": "xCJhphBdvbNi",
        "colab_type": "code",
        "colab": {}
      },
      "source": [
        "from bs4 import BeautifulSoup\n",
        "import requests\n",
        "import urllib.request\n",
        "import matplotlib.pyplot as plt"
      ],
      "execution_count": 0,
      "outputs": []
    },
    {
      "cell_type": "code",
      "metadata": {
        "id": "V2WHiMaWvc80",
        "colab_type": "code",
        "colab": {}
      },
      "source": [
        "url=\"https://en.wikipedia.org/wiki/Machine_learning\"\n",
        "response = requests.get(url).text\n",
        "\n"
      ],
      "execution_count": 0,
      "outputs": []
    },
    {
      "cell_type": "code",
      "metadata": {
        "id": "DRyaYRIrvf3S",
        "colab_type": "code",
        "colab": {}
      },
      "source": [
        "soup = BeautifulSoup(response, 'lxml')\n",
        "li=[]\n",
        "for para in soup.find_all('a'):\n",
        "  li.append(para.text.split())"
      ],
      "execution_count": 0,
      "outputs": []
    },
    {
      "cell_type": "markdown",
      "metadata": {
        "id": "HgVnP_rfTju6",
        "colab_type": "text"
      },
      "source": [
        "**Counting Total Text in Link**"
      ]
    },
    {
      "cell_type": "code",
      "metadata": {
        "id": "ZJBgEIkA4uPV",
        "colab_type": "code",
        "outputId": "636c0e6f-2bde-48a5-90e3-c278e3da0cda",
        "colab": {
          "base_uri": "https://localhost:8080/",
          "height": 35
        },
        "cellView": "code"
      },
      "source": [
        "total=0\n",
        "for i in range(len(li)):\n",
        "  total+=len(li[i]) \n",
        "print(total)"
      ],
      "execution_count": 4,
      "outputs": [
        {
          "output_type": "stream",
          "text": [
            "2424\n"
          ],
          "name": "stdout"
        }
      ]
    },
    {
      "cell_type": "markdown",
      "metadata": {
        "id": "Iie3-xYZT0tu",
        "colab_type": "text"
      },
      "source": [
        "**Counting occurance of each word**"
      ]
    },
    {
      "cell_type": "code",
      "metadata": {
        "id": "Gao2PmtYae16",
        "colab_type": "code",
        "colab": {}
      },
      "source": [
        "lis=[]                             \n",
        "for i in li :\n",
        "  for j in i : \n",
        "     lis.append(j)"
      ],
      "execution_count": 0,
      "outputs": []
    },
    {
      "cell_type": "code",
      "metadata": {
        "id": "d2NawdZST-tH",
        "colab_type": "code",
        "colab": {}
      },
      "source": [
        "repeatedwords=[]\n",
        "singlewords=[]\n",
        "for i in lis:\n",
        "   if lis.count(i) >= 2 :\n",
        "           repeatedwords.append(i)\n",
        "   else:\n",
        "      singlewords.append(i)\n"
      ],
      "execution_count": 0,
      "outputs": []
    },
    {
      "cell_type": "markdown",
      "metadata": {
        "id": "rwx-5M5KU0kG",
        "colab_type": "text"
      },
      "source": [
        "**Dict for words with their counts**"
      ]
    },
    {
      "cell_type": "code",
      "metadata": {
        "id": "8VAMDVyhUzeP",
        "colab_type": "code",
        "colab": {}
      },
      "source": [
        "dict={}\n",
        "for i in repeatedwords :\n",
        "  dict[i]=repeatedwords.count(i)"
      ],
      "execution_count": 0,
      "outputs": []
    },
    {
      "cell_type": "code",
      "metadata": {
        "id": "QYHQfht-U94e",
        "colab_type": "code",
        "colab": {}
      },
      "source": [
        "count=[]\n",
        "word=[]\n",
        "for i in dict:\n",
        " if dict[i] >20:\n",
        "  count.append(dict[i])\n",
        "  word.append(i)"
      ],
      "execution_count": 0,
      "outputs": []
    },
    {
      "cell_type": "markdown",
      "metadata": {
        "id": "EN8ZLo_XW4Cf",
        "colab_type": "text"
      },
      "source": [
        "**Plotting Pie and Bar**"
      ]
    },
    {
      "cell_type": "code",
      "metadata": {
        "id": "x1zaknmoViYm",
        "colab_type": "code",
        "colab": {
          "base_uri": "https://localhost:8080/",
          "height": 498
        },
        "outputId": "b12a9618-35ff-4b43-e3d9-9913f108516f"
      },
      "source": [
        "plt.pie(count,labels=word)"
      ],
      "execution_count": 9,
      "outputs": [
        {
          "output_type": "execute_result",
          "data": {
            "text/plain": [
              "([<matplotlib.patches.Wedge at 0x7fc712617a20>,\n",
              "  <matplotlib.patches.Wedge at 0x7fc712617ef0>,\n",
              "  <matplotlib.patches.Wedge at 0x7fc7125a6400>,\n",
              "  <matplotlib.patches.Wedge at 0x7fc7125a68d0>,\n",
              "  <matplotlib.patches.Wedge at 0x7fc7125a6da0>,\n",
              "  <matplotlib.patches.Wedge at 0x7fc7125b12b0>,\n",
              "  <matplotlib.patches.Wedge at 0x7fc7125b1780>],\n",
              " [Text(1.0319114213959109, 0.38099713698749893, 'Machine'),\n",
              "  Text(0.5955797584743532, 0.9248160634935098, 'Learning'),\n",
              "  Text(-0.536734443487601, 0.9601646406601606, 'learning'),\n",
              "  Text(-1.0999404818538485, -0.011442743513844006, 'of'),\n",
              "  Text(-0.8434655638084396, -0.7060919505767724, 'edit'),\n",
              "  Text(0.3486131262058909, -1.043297123659869, '^'),\n",
              "  Text(1.0713187994740618, -0.24955165776539193, 'ISBN')])"
            ]
          },
          "metadata": {
            "tags": []
          },
          "execution_count": 9
        },
        {
          "output_type": "display_data",
          "data": {
            "image/png": "[encoded data removed]",
            "text/plain": [
              "<Figure size 432x288 with 1 Axes>"
            ]
          },
          "metadata": {
            "tags": []
          }
        }
      ]
    },
    {
      "cell_type": "code",
      "metadata": {
        "id": "PpdHdKdvWSOe",
        "colab_type": "code",
        "colab": {
          "base_uri": "https://localhost:8080/",
          "height": 287
        },
        "outputId": "aea7de9d-1bc6-4994-eaf7-90cba5c562db"
      },
      "source": [
        "plt.bar(word,count)"
      ],
      "execution_count": 10,
      "outputs": [
        {
          "output_type": "execute_result",
          "data": {
            "text/plain": [
              "<BarContainer object of 7 artists>"
            ]
          },
          "metadata": {
            "tags": []
          },
          "execution_count": 10
        },
        {
          "output_type": "display_data",
          "data": {
            "image/png": "[encoded data removed]",
            "text/plain": [
              "<Figure size 432x288 with 1 Axes>"
            ]
          },
          "metadata": {
            "tags": []
          }
        }
      ]
    },
    {
      "cell_type": "markdown",
      "metadata": {
        "id": "mmvqG21lXHNo",
        "colab_type": "text"
      },
      "source": [
        "**Plotting Scatter Graph**"
      ]
    },
    {
      "cell_type": "code",
      "metadata": {
        "id": "PPXdOCxrWtC-",
        "colab_type": "code",
        "colab": {}
      },
      "source": [
        "repeatedwordcount=[]\n",
        "words=[]\n",
        "for i in repeatedwords :\n",
        "  if dict[i]>3:\n",
        "    repeatedwordcount.append(dict[i])\n",
        "    words.append(i)\n",
        "    "
      ],
      "execution_count": 0,
      "outputs": []
    },
    {
      "cell_type": "code",
      "metadata": {
        "id": "riU8rwObYHNO",
        "colab_type": "code",
        "colab": {
          "base_uri": "https://localhost:8080/",
          "height": 287
        },
        "outputId": "74504399-bedc-4d43-8501-481f9138f883"
      },
      "source": [
        "plt.scatter(words,repeatedwordcount)"
      ],
      "execution_count": 12,
      "outputs": [
        {
          "output_type": "execute_result",
          "data": {
            "text/plain": [
              "<matplotlib.collections.PathCollection at 0x7fc70fd117b8>"
            ]
          },
          "metadata": {
            "tags": []
          },
          "execution_count": 12
        },
        {
          "output_type": "display_data",
          "data": {
            "image/png": "[encoded data removed]",
            "text/plain": [
              "<Figure size 432x288 with 1 Axes>"
            ]
          },
          "metadata": {
            "tags": []
          }
        }
      ]
    }
  ]
}