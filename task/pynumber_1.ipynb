{
  "nbformat": 4,
  "nbformat_minor": 0,
  "metadata": {
    "colab": {
      "name": "Untitled1.ipynb",
      "version": "0.3.2",
      "provenance": [],
      "include_colab_link": true
    },
    "kernelspec": {
      "name": "python3",
      "display_name": "Python 3"
    }
  },
  "cells": [
    {
      "cell_type": "markdown",
      "metadata": {
        "id": "view-in-github",
        "colab_type": "text"
      },
      "source": [
        "<a href=\"https://colab.research.google.com/github/tarunsharma1999/SummertrainingML/blob/master/task/pynumber_1.ipynb\" target=\"_parent\"><img src=\"https://colab.research.google.com/assets/colab-badge.svg\" alt=\"Open In Colab\"/></a>"
      ]
    },
    {
      "cell_type": "markdown",
      "metadata": {
        "id": "tsBOFeALA6s2",
        "colab_type": "text"
      },
      "source": [
        "#pynumber: 1\n",
        "\n",
        "#create 2D numpy  based array with given conditions:\n",
        "i)   take input from user in terms of dimension like (3x2 or 6x7)\n",
        "\n",
        "ii)   fill this numpy array with random number\n",
        "\n",
        "\n",
        "iii)  store this array in a file"
      ]
    },
    {
      "cell_type": "code",
      "metadata": {
        "id": "g6LqumlmZhnY",
        "colab_type": "code",
        "colab": {}
      },
      "source": [
        "import numpy as n"
      ],
      "execution_count": 0,
      "outputs": []
    },
    {
      "cell_type": "code",
      "metadata": {
        "id": "aaOys9GBZm-2",
        "colab_type": "code",
        "outputId": "85de3ee7-216d-4c20-d532-0183d743ac51",
        "colab": {
          "base_uri": "https://localhost:8080/",
          "height": 101
        }
      },
      "source": [
        "print(\"Enter dimensions of array:\")\n",
        "x=int(input())\n",
        "y=int(input())\n",
        "\n",
        "array=n.random.randint(low = 4, size =(2, 3)) \n",
        "\n",
        "n.savetxt('file.txt',array)\n",
        "n.loadtxt('file.txt')"
      ],
      "execution_count": 0,
      "outputs": [
        {
          "output_type": "stream",
          "text": [
            "Enter dimensions of array:\n",
            "3\n",
            "4\n"
          ],
          "name": "stdout"
        },
        {
          "output_type": "execute_result",
          "data": {
            "text/plain": [
              "array([[2., 3., 1.],\n",
              "       [2., 0., 1.]])"
            ]
          },
          "metadata": {
            "tags": []
          },
          "execution_count": 2
        }
      ]
    }
  ]
}