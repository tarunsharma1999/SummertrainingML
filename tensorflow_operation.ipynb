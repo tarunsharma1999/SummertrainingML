{
  "nbformat": 4,
  "nbformat_minor": 0,
  "metadata": {
    "colab": {
      "name": "tensorflow_operation.ipynb",
      "version": "0.3.2",
      "provenance": [],
      "collapsed_sections": [],
      "include_colab_link": true
    },
    "kernelspec": {
      "name": "python3",
      "display_name": "Python 3"
    }
  },
  "cells": [
    {
      "cell_type": "markdown",
      "metadata": {
        "id": "view-in-github",
        "colab_type": "text"
      },
      "source": [
        "<a href=\"https://colab.research.google.com/github/tarunsharma1999/SummertrainingML/blob/master/tensorflow_operation.ipynb\" target=\"_parent\"><img src=\"https://colab.research.google.com/assets/colab-badge.svg\" alt=\"Open In Colab\"/></a>"
      ]
    },
    {
      "cell_type": "code",
      "metadata": {
        "id": "s97_nu0CmYAw",
        "colab_type": "code",
        "colab": {}
      },
      "source": [
        "import tensorflow as tf"
      ],
      "execution_count": 0,
      "outputs": []
    },
    {
      "cell_type": "code",
      "metadata": {
        "id": "bqK3i6sJmbJG",
        "colab_type": "code",
        "colab": {}
      },
      "source": [
        "# to assign fix values in tensorflow we need to define constant\n",
        "\n",
        "X=tf.constant([30,20,30])"
      ],
      "execution_count": 0,
      "outputs": []
    },
    {
      "cell_type": "code",
      "metadata": {
        "id": "ysqkYydgmr15",
        "colab_type": "code",
        "outputId": "e3dac764-e6d5-422b-c530-0dd218daad65",
        "colab": {
          "base_uri": "https://localhost:8080/",
          "height": 35
        }
      },
      "source": [
        "print(X)"
      ],
      "execution_count": 0,
      "outputs": [
        {
          "output_type": "stream",
          "text": [
            "Tensor(\"Const_4:0\", shape=(3,), dtype=int32)\n"
          ],
          "name": "stdout"
        }
      ]
    },
    {
      "cell_type": "code",
      "metadata": {
        "id": "ok4j8WoEms3r",
        "colab_type": "code",
        "colab": {}
      },
      "source": [
        "Y=tf.constant(20)"
      ],
      "execution_count": 0,
      "outputs": []
    },
    {
      "cell_type": "code",
      "metadata": {
        "id": "gcmQ-G4CoHGH",
        "colab_type": "code",
        "colab": {}
      },
      "source": [
        "#z=tf.add(X,Y)\n",
        "\n",
        "z=X+Y\n",
        "# new tensor z equation compiles and store and wait for resources GPU,CPU,TPU"
      ],
      "execution_count": 0,
      "outputs": []
    },
    {
      "cell_type": "code",
      "metadata": {
        "id": "WA03cyjRoUUB",
        "colab_type": "code",
        "outputId": "8894cc28-60f8-4d97-a4ed-356259be9c9c",
        "colab": {
          "base_uri": "https://localhost:8080/",
          "height": 35
        }
      },
      "source": [
        "print(z)"
      ],
      "execution_count": 0,
      "outputs": [
        {
          "output_type": "stream",
          "text": [
            "Tensor(\"add_2:0\", shape=(3,), dtype=int32)\n"
          ],
          "name": "stdout"
        }
      ]
    },
    {
      "cell_type": "code",
      "metadata": {
        "id": "ABchFRFNoXe_",
        "colab_type": "code",
        "outputId": "ac6d18b5-38b0-4443-9a87-246a3fc89188",
        "colab": {
          "base_uri": "https://localhost:8080/",
          "height": 35
        }
      },
      "source": [
        "# now to run equation or establishing resources\n",
        "\n",
        "sess=tf.Session()\n",
        "output=sess.run(z)\n",
        "print(output)\n",
        "sess.close()"
      ],
      "execution_count": 0,
      "outputs": [
        {
          "output_type": "stream",
          "text": [
            "[50 40 50]\n"
          ],
          "name": "stdout"
        }
      ]
    },
    {
      "cell_type": "code",
      "metadata": {
        "id": "WTy_x8Wb04gQ",
        "colab_type": "code",
        "colab": {}
      },
      "source": [
        "#Automatically closing method\n",
        "with tf.Session() as sess:\n",
        "  output=sess.run(z)\n",
        "  #To see summary\n",
        "  tf.summary.FileWriter('graph',sess.graph)"
      ],
      "execution_count": 0,
      "outputs": []
    },
    {
      "cell_type": "markdown",
      "metadata": {
        "id": "Z-RUDUcJ4E8N",
        "colab_type": "text"
      },
      "source": [
        "# PLACEHOLDER"
      ]
    },
    {
      "cell_type": "code",
      "metadata": {
        "id": "CGXKJCtX1XdP",
        "colab_type": "code",
        "colab": {}
      },
      "source": [
        "p1=tf.placeholder(tf.int32)"
      ],
      "execution_count": 0,
      "outputs": []
    },
    {
      "cell_type": "code",
      "metadata": {
        "id": "YH_aVgXt4KsD",
        "colab_type": "code",
        "colab": {}
      },
      "source": [
        "p2=tf.placeholder(tf.int32)"
      ],
      "execution_count": 0,
      "outputs": []
    },
    {
      "cell_type": "code",
      "metadata": {
        "id": "pxjMheZE4OPW",
        "colab_type": "code",
        "colab": {}
      },
      "source": [
        "sum1=tf.add(p1,p2)"
      ],
      "execution_count": 0,
      "outputs": []
    },
    {
      "cell_type": "code",
      "metadata": {
        "id": "c2LJIvYU4RNv",
        "colab_type": "code",
        "colab": {}
      },
      "source": [
        "with tf.Session() as sess:\n",
        "  output2=sess.run(sum1,{p1:[3,6],p2:[5,8]})"
      ],
      "execution_count": 0,
      "outputs": []
    },
    {
      "cell_type": "code",
      "metadata": {
        "id": "2F43biwa4lQV",
        "colab_type": "code",
        "outputId": "edd3e722-f05e-40ac-fa0d-f5232495988a",
        "colab": {
          "base_uri": "https://localhost:8080/",
          "height": 35
        }
      },
      "source": [
        "output2"
      ],
      "execution_count": 0,
      "outputs": [
        {
          "output_type": "execute_result",
          "data": {
            "text/plain": [
              "array([ 8, 14], dtype=int32)"
            ]
          },
          "metadata": {
            "tags": []
          },
          "execution_count": 59
        }
      ]
    }
  ]
}