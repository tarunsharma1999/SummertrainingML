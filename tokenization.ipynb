{
  "nbformat": 4,
  "nbformat_minor": 0,
  "metadata": {
    "colab": {
      "name": "tokenization.ipynb",
      "version": "0.3.2",
      "provenance": [],
      "include_colab_link": true
    },
    "kernelspec": {
      "name": "python3",
      "display_name": "Python 3"
    }
  },
  "cells": [
    {
      "cell_type": "markdown",
      "metadata": {
        "id": "view-in-github",
        "colab_type": "text"
      },
      "source": [
        "<a href=\"https://colab.research.google.com/github/tarunsharma1999/SummertrainingML/blob/master/tokenization.ipynb\" target=\"_parent\"><img src=\"https://colab.research.google.com/assets/colab-badge.svg\" alt=\"Open In Colab\"/></a>"
      ]
    },
    {
      "cell_type": "code",
      "metadata": {
        "id": "Jigb7VDpXZYU",
        "colab_type": "code",
        "colab": {}
      },
      "source": [
        "msg='''A paragraph is a group of words put together to form a group that is usually longer than a sentence. \n",
        "Paragraphs are often made up of several sentences. There are usually between three and eight sentences?\n",
        "Paragraphs can begin with an indentation (about five spaces), or by missing a line out, and then starting again.\n",
        "This makes it easier to see when one paragraph ends and another begins?\n",
        "In most organized forms of writing, such as essays, paragraphs contain a topic sentence .\n",
        "This topic sentence of the paragraph tells the reader what the paragraph will be about. \n",
        "Essays usually have multiple paragraphs that make claims to support a thesis statement, which is the central idea of the essay. '''\n"
      ],
      "execution_count": 0,
      "outputs": []
    },
    {
      "cell_type": "code",
      "metadata": {
        "id": "cGVTeMeHXbUq",
        "colab_type": "code",
        "colab": {}
      },
      "source": [
        "from nltk.tokenize import sent_tokenize\n",
        "from nltk.tokenize import word_tokenize\n",
        "from nltk.corpus import stopwords\n",
        "\n",
        "nltk.download('punkt')"
      ],
      "execution_count": 0,
      "outputs": []
    },
    {
      "cell_type": "code",
      "metadata": {
        "id": "z6tiyI6SYFdX",
        "colab_type": "code",
        "colab": {
          "base_uri": "https://localhost:8080/",
          "height": 74
        },
        "outputId": "f402428a-7aeb-4e1e-f5cb-032c5ecd8400"
      },
      "source": [
        "sent=sent_tokenize(msg)\n",
        "print(sent)\n",
        "print(len(sent))"
      ],
      "execution_count": 28,
      "outputs": [
        {
          "output_type": "stream",
          "text": [
            "['A paragraph is a group of words put together to form a group that is usually longer than a sentence.', 'Paragraphs are often made up of several sentences.', 'There are usually between three and eight sentences?', 'Paragraphs can begin with an indentation (about five spaces), or by missing a line out, and then starting again.', 'This makes it easier to see when one paragraph ends and another begins?', 'In most organized forms of writing, such as essays, paragraphs contain a topic sentence .', 'This topic sentence of the paragraph tells the reader what the paragraph will be about.', 'Essays usually have multiple paragraphs that make claims to support a thesis statement, which is the central idea of the essay.']\n",
            "8\n"
          ],
          "name": "stdout"
        }
      ]
    },
    {
      "cell_type": "code",
      "metadata": {
        "id": "6KcT-wDxYMAH",
        "colab_type": "code",
        "colab": {
          "base_uri": "https://localhost:8080/",
          "height": 74
        },
        "outputId": "952e4714-7ada-4a1f-a2b3-4541ab59b162"
      },
      "source": [
        "word=word_tokenize(msg)\n",
        "print(word)\n",
        "print(len(word))"
      ],
      "execution_count": 29,
      "outputs": [
        {
          "output_type": "stream",
          "text": [
            "['A', 'paragraph', 'is', 'a', 'group', 'of', 'words', 'put', 'together', 'to', 'form', 'a', 'group', 'that', 'is', 'usually', 'longer', 'than', 'a', 'sentence', '.', 'Paragraphs', 'are', 'often', 'made', 'up', 'of', 'several', 'sentences', '.', 'There', 'are', 'usually', 'between', 'three', 'and', 'eight', 'sentences', '?', 'Paragraphs', 'can', 'begin', 'with', 'an', 'indentation', '(', 'about', 'five', 'spaces', ')', ',', 'or', 'by', 'missing', 'a', 'line', 'out', ',', 'and', 'then', 'starting', 'again', '.', 'This', 'makes', 'it', 'easier', 'to', 'see', 'when', 'one', 'paragraph', 'ends', 'and', 'another', 'begins', '?', 'In', 'most', 'organized', 'forms', 'of', 'writing', ',', 'such', 'as', 'essays', ',', 'paragraphs', 'contain', 'a', 'topic', 'sentence', '.', 'This', 'topic', 'sentence', 'of', 'the', 'paragraph', 'tells', 'the', 'reader', 'what', 'the', 'paragraph', 'will', 'be', 'about', '.', 'Essays', 'usually', 'have', 'multiple', 'paragraphs', 'that', 'make', 'claims', 'to', 'support', 'a', 'thesis', 'statement', ',', 'which', 'is', 'the', 'central', 'idea', 'of', 'the', 'essay', '.']\n",
            "133\n"
          ],
          "name": "stdout"
        }
      ]
    },
    {
      "cell_type": "code",
      "metadata": {
        "id": "D8l9n6j_YeYz",
        "colab_type": "code",
        "colab": {
          "base_uri": "https://localhost:8080/",
          "height": 74
        },
        "outputId": "24e5e6f7-7182-4bbe-b015-1439f842b866"
      },
      "source": [
        "#remove stopwords from paragraph\n",
        "new_word=[i for i in word if i.lower() not in stopwords.words('english')]\n",
        "print(new_word)\n",
        "print(len(new_word))"
      ],
      "execution_count": 32,
      "outputs": [
        {
          "output_type": "stream",
          "text": [
            "['paragraph', 'group', 'words', 'put', 'together', 'form', 'group', 'usually', 'longer', 'sentence', '.', 'Paragraphs', 'often', 'made', 'several', 'sentences', '.', 'usually', 'three', 'eight', 'sentences', '?', 'Paragraphs', 'begin', 'indentation', '(', 'five', 'spaces', ')', ',', 'missing', 'line', ',', 'starting', '.', 'makes', 'easier', 'see', 'one', 'paragraph', 'ends', 'another', 'begins', '?', 'organized', 'forms', 'writing', ',', 'essays', ',', 'paragraphs', 'contain', 'topic', 'sentence', '.', 'topic', 'sentence', 'paragraph', 'tells', 'reader', 'paragraph', '.', 'Essays', 'usually', 'multiple', 'paragraphs', 'make', 'claims', 'support', 'thesis', 'statement', ',', 'central', 'idea', 'essay', '.']\n",
            "76\n"
          ],
          "name": "stdout"
        }
      ]
    },
    {
      "cell_type": "code",
      "metadata": {
        "id": "8gpywJt4ZGh5",
        "colab_type": "code",
        "colab": {}
      },
      "source": [
        "import nltk\n",
        "import matplotlib.pyplot as plt"
      ],
      "execution_count": 0,
      "outputs": []
    },
    {
      "cell_type": "code",
      "metadata": {
        "id": "U3uxbwe3ZPdW",
        "colab_type": "code",
        "colab": {
          "base_uri": "https://localhost:8080/",
          "height": 325
        },
        "outputId": "5f122491-cd91-4100-83e6-c532803b06cc"
      },
      "source": [
        "nlp=nltk.FreqDist(word)\n",
        "nlp.plot(10)"
      ],
      "execution_count": 37,
      "outputs": [
        {
          "output_type": "display_data",
          "data": {
            "image/png": "[encoded data removed]",
            "text/plain": [
              "<Figure size 432x288 with 1 Axes>"
            ]
          },
          "metadata": {
            "tags": []
          }
        }
      ]
    },
    {
      "cell_type": "code",
      "metadata": {
        "id": "zzKyocBRZaNr",
        "colab_type": "code",
        "colab": {}
      },
      "source": [
        ""
      ],
      "execution_count": 0,
      "outputs": []
    }
  ]
}