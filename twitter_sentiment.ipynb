{
  "nbformat": 4,
  "nbformat_minor": 0,
  "metadata": {
    "colab": {
      "name": "twitter_sentiment.ipynb",
      "version": "0.3.2",
      "provenance": [],
      "collapsed_sections": [],
      "include_colab_link": true
    },
    "kernelspec": {
      "name": "python3",
      "display_name": "Python 3"
    }
  },
  "cells": [
    {
      "cell_type": "markdown",
      "metadata": {
        "id": "view-in-github",
        "colab_type": "text"
      },
      "source": [
        "<a href=\"https://colab.research.google.com/github/tarunsharma1999/SummertrainingML/blob/master/twitter_sentiment.ipynb\" target=\"_parent\"><img src=\"https://colab.research.google.com/assets/colab-badge.svg\" alt=\"Open In Colab\"/></a>"
      ]
    },
    {
      "cell_type": "code",
      "metadata": {
        "id": "6mJjtaHMK_8Q",
        "colab_type": "code",
        "colab": {}
      },
      "source": [
        "import tweepy\n",
        "import matplotlib.pyplot as plt\n",
        "from textblob import TextBlob"
      ],
      "execution_count": 0,
      "outputs": []
    },
    {
      "cell_type": "code",
      "metadata": {
        "id": "1DPZkpZQLJCc",
        "colab_type": "code",
        "colab": {}
      },
      "source": [
        "# All 4 authentication keyss to  access twitter API\n",
        "\n",
        "# To connect as OAuth handler or jump server or proxy server\n",
        "consumer_key='mqD02adXsDefZqwfCFBSHe50N'\n",
        "consumer_sec='RNEGzp0PTrOxFUiZ2CdYEgpZgoJmiTFchOTcEBTjkVJyYJx2Xq'\n",
        "\n",
        "# From proxy server \n",
        "Access_token='3237471037-kJlEfhsYerxq03UTLnsdoHlU35Cdv4Pu8ihwUfs'\n",
        "Access_Sec='FVSLLp0vkpZorT4a1oviZQqG55kmSxcjqSNWOCMUuTh3a'"
      ],
      "execution_count": 0,
      "outputs": []
    },
    {
      "cell_type": "code",
      "metadata": {
        "id": "PwWQoriEROC6",
        "colab_type": "code",
        "colab": {}
      },
      "source": [
        "auth=tweepy.OAuthHandler(consumer_key,consumer_sec)"
      ],
      "execution_count": 0,
      "outputs": []
    },
    {
      "cell_type": "code",
      "metadata": {
        "id": "21hapwbARZcK",
        "colab_type": "code",
        "colab": {}
      },
      "source": [
        "auth.set_access_token(Access_token,Access_Sec)"
      ],
      "execution_count": 0,
      "outputs": []
    },
    {
      "cell_type": "code",
      "metadata": {
        "id": "8d7IJQe0RpYJ",
        "colab_type": "code",
        "colab": {}
      },
      "source": [
        "api_connect=tweepy.API(auth)"
      ],
      "execution_count": 0,
      "outputs": []
    },
    {
      "cell_type": "code",
      "metadata": {
        "id": "cBtHLx8UUW6Z",
        "colab_type": "code",
        "colab": {}
      },
      "source": [
        "twitter_data=api_connect.search('Hate',count=30)"
      ],
      "execution_count": 0,
      "outputs": []
    },
    {
      "cell_type": "code",
      "metadata": {
        "id": "wIHnCXLMR9LL",
        "colab_type": "code",
        "outputId": "ef1a90f8-c2f2-437f-a72d-b5d906ab2564",
        "colab": {
          "base_uri": "https://localhost:8080/",
          "height": 673
        }
      },
      "source": [
        "pos=0\n",
        "nut=0\n",
        "neg=0\n",
        "\n",
        "for tweet in twitter_data :\n",
        "  print(tweet.text)\n",
        "  analysis=TextBlob(tweet.text)\n",
        "  #print(analysis.sentiment)\n",
        "  \n",
        "  #now cheking polarity only\n",
        "  if analysis.sentiment.polarity > 0 :\n",
        "    #print('positive')\n",
        "    pos+=1\n",
        "  elif analysis.sentiment.polarity == 0 :\n",
        "    #print('neutral')\n",
        "    nut+=1\n",
        "  else:\n",
        "    #print('negative')\n",
        "    neg+=1\n",
        "   \n",
        "plt.xlabel('tags')\n",
        "plt.ylabel('polarity')\n",
        "#plt.bar(['pos','neg','neu'],[pos,neg,nut])\n",
        "plt.pie([pos,neg,nut],labels=[\"pos\",\"neg\",\"nut\"],autopct=\"%1.1f%%\")\n",
        "plt.show()"
      ],
      "execution_count": 0,
      "outputs": [
        {
          "output_type": "stream",
          "text": [
            "as much as i hate the hammersmith and city line for the amount of signal failures it has, i am always grateful for… https://t.co/cHI87KMRZN\n",
            "RT @Andymartin1175: Being honest. I just don’t care how Leavers would feel if article 50 was revoked now. Couldn’t care less. I just want t…\n",
            "I really hate K-Pop, thank God Chanbaek is a mess🤣 https://t.co/66FGcvdhEQ\n",
            "Islam doing for us ? Feck all take a few puthem in Birmingham stand out Schools and stick their hate and peddle lea… https://t.co/6zOZaZOxJ4\n",
            "What common misconception do you hate to hear repeated as fact? — hyuka isnt my best friend😭😡 https://t.co/vaWABLqiZF\n",
            "RT @4M30W: I hate ktm. I hate it so much because sakit hati fikir this shitty technology is allowed to operate on a national level. Changin…\n",
            "i hate twitter https://t.co/Er3xHSGcdO\n",
            "RT @danialzz__: i hate when i accidentally know something that i shouldn’t know.\n",
            "I hate yall https://t.co/jKBuIv5yQ5\n",
            "Ya really just hate to see it https://t.co/F7cRwCrjYr\n",
            "@TempoIsa //Trop hâte sérieux tu m'a trop manqué\n",
            "Only Part I Hate About Working Nights 😒\n",
            "RT @GranadaReports: Liverpool's Pride festival is now \"more important than ever\" - after a sharp rise in hate crime against LGBT+ people in…\n",
            "@RandyRRQuaid Me Quaid is woke..that’s why Dems &amp; Globalist hate Conservative Patriotic Americans ..because We The… https://t.co/wvaVYSRtrw\n",
            "RT @ChrisEvans: Happy 4th of July! A day that represents courage in the face of tyranny. Take a moment today to question how history will l…\n",
            "takut membuat semua org yg mungkin percaya sama aku akan langsung menjauh :\" hal itu dulu sudah hilang, takut akan… https://t.co/KPh8PNYpod\n",
            "RT @danialzz__: i hate when i accidentally know something that i shouldn’t know.\n",
            "I HATE THIS SENTENCE https://t.co/agp2aWtFdI\n",
            "@CheeseyMusicals @MsNightmare24 I will just chime in and say, as an autistic person, whoever decided to take THAT L… https://t.co/b2U8jHQ8PN\n",
            "RT @momcentrl: I hate the way some men choose to treat the mother of their children. It’s gross. And the fact that so many people don’t see…\n",
            "@AHGASE000 @MartynaGralczy2 @GOT7Official PLEASE RETWEET, RETWEET COUNT AS VOTE. Remember if each of us tweet as ma… https://t.co/qeIlwzql1K\n",
            "RT @danialzz__: i hate when i accidentally know something that i shouldn’t know.\n"
          ],
          "name": "stdout"
        },
        {
          "output_type": "display_data",
          "data": {
            "image/png": "[encoded data removed]",
            "text/plain": [
              "<Figure size 432x288 with 1 Axes>"
            ]
          },
          "metadata": {
            "tags": []
          }
        }
      ]
    },
    {
      "cell_type": "code",
      "metadata": {
        "id": "YhspKexCSGEM",
        "colab_type": "code",
        "colab": {}
      },
      "source": [
        ""
      ],
      "execution_count": 0,
      "outputs": []
    }
  ]
}